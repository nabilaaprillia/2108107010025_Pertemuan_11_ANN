{
 "cells": [
  {
   "attachments": {},
   "cell_type": "markdown",
   "metadata": {},
   "source": [
    "Nama : Nabila Aprillia\n",
    "\n",
    "NPM : 2108107010025\n",
    "\n",
    "Tugas 3 Artificial Neural Networks (ANN) regresi\n",
    "\n",
    "dataset yang saya ambil berasal dari Kaggle: https://www.kaggle.com/datasets/hassanoukhouya/energycsv\n",
    "\n",
    "*Dataset yang disebutkan dalam sumber adalah dataset \"energy\" yang mencakup data beban listrik dari September 1, 2014, hingga Desember 31, 2014. Data ini memprediksi beban listrik.\n",
    "\n",
    "*Informasi Atribut:\n",
    "\n",
    "timestamp\n",
    "load\n",
    "temp\n",
    "Studi Kasus : Memprediksi Beban listrik yang dipakai dari September 1, 2014, hingga Desember 31, 2014"
   ]
  },
  {
   "attachments": {},
   "cell_type": "markdown",
   "metadata": {},
   "source": [
    "### Import Library"
   ]
  },
  {
   "cell_type": "code",
   "execution_count": 18,
   "metadata": {},
   "outputs": [],
   "source": [
    "import pandas as pd\n",
    "import matplotlib.pyplot as plt\n",
    "from sklearn.model_selection import train_test_split\n",
    "from sklearn.svm import SVR\n",
    "from sklearn.preprocessing import StandardScaler\n",
    "import numpy as np\n",
    "import seaborn as sns\n",
    "import tensorflow as tf\n",
    "from tensorflow.keras.models import Sequential\n",
    "from tensorflow.keras.layers import Dense, Activation, Dropout\n",
    "from keras.callbacks import History"
   ]
  },
  {
   "cell_type": "code",
   "execution_count": 2,
   "metadata": {},
   "outputs": [
    {
     "data": {
      "text/html": [
       "<div>\n",
       "<style scoped>\n",
       "    .dataframe tbody tr th:only-of-type {\n",
       "        vertical-align: middle;\n",
       "    }\n",
       "\n",
       "    .dataframe tbody tr th {\n",
       "        vertical-align: top;\n",
       "    }\n",
       "\n",
       "    .dataframe thead th {\n",
       "        text-align: right;\n",
       "    }\n",
       "</style>\n",
       "<table border=\"1\" class=\"dataframe\">\n",
       "  <thead>\n",
       "    <tr style=\"text-align: right;\">\n",
       "      <th></th>\n",
       "      <th>timestamp</th>\n",
       "      <th>load</th>\n",
       "      <th>temp</th>\n",
       "    </tr>\n",
       "  </thead>\n",
       "  <tbody>\n",
       "    <tr>\n",
       "      <th>0</th>\n",
       "      <td>2012-01-01 00:00:00</td>\n",
       "      <td>2698.0</td>\n",
       "      <td>32.000000</td>\n",
       "    </tr>\n",
       "    <tr>\n",
       "      <th>1</th>\n",
       "      <td>2012-01-01 01:00:00</td>\n",
       "      <td>2558.0</td>\n",
       "      <td>32.666667</td>\n",
       "    </tr>\n",
       "    <tr>\n",
       "      <th>2</th>\n",
       "      <td>2012-01-01 02:00:00</td>\n",
       "      <td>2444.0</td>\n",
       "      <td>30.000000</td>\n",
       "    </tr>\n",
       "    <tr>\n",
       "      <th>3</th>\n",
       "      <td>2012-01-01 03:00:00</td>\n",
       "      <td>2402.0</td>\n",
       "      <td>31.000000</td>\n",
       "    </tr>\n",
       "    <tr>\n",
       "      <th>4</th>\n",
       "      <td>2012-01-01 04:00:00</td>\n",
       "      <td>2403.0</td>\n",
       "      <td>32.000000</td>\n",
       "    </tr>\n",
       "  </tbody>\n",
       "</table>\n",
       "</div>"
      ],
      "text/plain": [
       "             timestamp    load       temp\n",
       "0  2012-01-01 00:00:00  2698.0  32.000000\n",
       "1  2012-01-01 01:00:00  2558.0  32.666667\n",
       "2  2012-01-01 02:00:00  2444.0  30.000000\n",
       "3  2012-01-01 03:00:00  2402.0  31.000000\n",
       "4  2012-01-01 04:00:00  2403.0  32.000000"
      ]
     },
     "execution_count": 2,
     "metadata": {},
     "output_type": "execute_result"
    }
   ],
   "source": [
    "df = pd.read_csv('data/energy.csv')\n",
    "df.head()"
   ]
  },
  {
   "cell_type": "code",
   "execution_count": 3,
   "metadata": {},
   "outputs": [
    {
     "data": {
      "text/html": [
       "<div>\n",
       "<style scoped>\n",
       "    .dataframe tbody tr th:only-of-type {\n",
       "        vertical-align: middle;\n",
       "    }\n",
       "\n",
       "    .dataframe tbody tr th {\n",
       "        vertical-align: top;\n",
       "    }\n",
       "\n",
       "    .dataframe thead th {\n",
       "        text-align: right;\n",
       "    }\n",
       "</style>\n",
       "<table border=\"1\" class=\"dataframe\">\n",
       "  <thead>\n",
       "    <tr style=\"text-align: right;\">\n",
       "      <th></th>\n",
       "      <th>timestamp</th>\n",
       "      <th>load</th>\n",
       "      <th>temp</th>\n",
       "    </tr>\n",
       "  </thead>\n",
       "  <tbody>\n",
       "    <tr>\n",
       "      <th>0</th>\n",
       "      <td>2012-01-01 00:00:00</td>\n",
       "      <td>2698.0</td>\n",
       "      <td>32.000000</td>\n",
       "    </tr>\n",
       "    <tr>\n",
       "      <th>1</th>\n",
       "      <td>2012-01-01 01:00:00</td>\n",
       "      <td>2558.0</td>\n",
       "      <td>32.666667</td>\n",
       "    </tr>\n",
       "    <tr>\n",
       "      <th>2</th>\n",
       "      <td>2012-01-01 02:00:00</td>\n",
       "      <td>2444.0</td>\n",
       "      <td>30.000000</td>\n",
       "    </tr>\n",
       "    <tr>\n",
       "      <th>3</th>\n",
       "      <td>2012-01-01 03:00:00</td>\n",
       "      <td>2402.0</td>\n",
       "      <td>31.000000</td>\n",
       "    </tr>\n",
       "    <tr>\n",
       "      <th>4</th>\n",
       "      <td>2012-01-01 04:00:00</td>\n",
       "      <td>2403.0</td>\n",
       "      <td>32.000000</td>\n",
       "    </tr>\n",
       "  </tbody>\n",
       "</table>\n",
       "</div>"
      ],
      "text/plain": [
       "             timestamp    load       temp\n",
       "0  2012-01-01 00:00:00  2698.0  32.000000\n",
       "1  2012-01-01 01:00:00  2558.0  32.666667\n",
       "2  2012-01-01 02:00:00  2444.0  30.000000\n",
       "3  2012-01-01 03:00:00  2402.0  31.000000\n",
       "4  2012-01-01 04:00:00  2403.0  32.000000"
      ]
     },
     "execution_count": 3,
     "metadata": {},
     "output_type": "execute_result"
    }
   ],
   "source": [
    "df = pd.read_csv('data/energy.csv')\n",
    "df.head()"
   ]
  },
  {
   "cell_type": "code",
   "execution_count": 4,
   "metadata": {},
   "outputs": [
    {
     "data": {
      "text/html": [
       "<div>\n",
       "<style scoped>\n",
       "    .dataframe tbody tr th:only-of-type {\n",
       "        vertical-align: middle;\n",
       "    }\n",
       "\n",
       "    .dataframe tbody tr th {\n",
       "        vertical-align: top;\n",
       "    }\n",
       "\n",
       "    .dataframe thead th {\n",
       "        text-align: right;\n",
       "    }\n",
       "</style>\n",
       "<table border=\"1\" class=\"dataframe\">\n",
       "  <thead>\n",
       "    <tr style=\"text-align: right;\">\n",
       "      <th></th>\n",
       "      <th>count</th>\n",
       "      <th>mean</th>\n",
       "      <th>std</th>\n",
       "      <th>min</th>\n",
       "      <th>25%</th>\n",
       "      <th>50%</th>\n",
       "      <th>75%</th>\n",
       "      <th>max</th>\n",
       "    </tr>\n",
       "  </thead>\n",
       "  <tbody>\n",
       "    <tr>\n",
       "      <th>load</th>\n",
       "      <td>26304.0</td>\n",
       "      <td>3303.769199</td>\n",
       "      <td>564.579253</td>\n",
       "      <td>1979.000000</td>\n",
       "      <td>2867.000000</td>\n",
       "      <td>3364.000000</td>\n",
       "      <td>3690.000000</td>\n",
       "      <td>5224.0</td>\n",
       "    </tr>\n",
       "    <tr>\n",
       "      <th>temp</th>\n",
       "      <td>26304.0</td>\n",
       "      <td>47.765638</td>\n",
       "      <td>19.338142</td>\n",
       "      <td>-13.666667</td>\n",
       "      <td>32.666667</td>\n",
       "      <td>48.333333</td>\n",
       "      <td>63.666667</td>\n",
       "      <td>95.0</td>\n",
       "    </tr>\n",
       "  </tbody>\n",
       "</table>\n",
       "</div>"
      ],
      "text/plain": [
       "        count         mean         std          min          25%          50%  \\\n",
       "load  26304.0  3303.769199  564.579253  1979.000000  2867.000000  3364.000000   \n",
       "temp  26304.0    47.765638   19.338142   -13.666667    32.666667    48.333333   \n",
       "\n",
       "              75%     max  \n",
       "load  3690.000000  5224.0  \n",
       "temp    63.666667    95.0  "
      ]
     },
     "execution_count": 4,
     "metadata": {},
     "output_type": "execute_result"
    }
   ],
   "source": [
    "# informasi statistik dari dataset\n",
    "df.describe().T"
   ]
  },
  {
   "attachments": {},
   "cell_type": "markdown",
   "metadata": {},
   "source": [
    "### Prepocessing Data"
   ]
  },
  {
   "cell_type": "code",
   "execution_count": 5,
   "metadata": {},
   "outputs": [
    {
     "data": {
      "text/plain": [
       "timestamp    0\n",
       "load         0\n",
       "temp         0\n",
       "dtype: int64"
      ]
     },
     "execution_count": 5,
     "metadata": {},
     "output_type": "execute_result"
    }
   ],
   "source": [
    "# cek apakah ada missing value pada dataset\n",
    "df.isnull().sum()"
   ]
  },
  {
   "cell_type": "code",
   "execution_count": 6,
   "metadata": {},
   "outputs": [
    {
     "data": {
      "text/plain": [
       "0"
      ]
     },
     "execution_count": 6,
     "metadata": {},
     "output_type": "execute_result"
    }
   ],
   "source": [
    "# cek apakah ada duplikat data pada dataset\n",
    "df.duplicated().sum()"
   ]
  },
  {
   "cell_type": "code",
   "execution_count": 7,
   "metadata": {},
   "outputs": [],
   "source": [
    "# Konversi timestamp ke tipe data datetime\n",
    "df['timestamp'] = pd.to_datetime(df['timestamp'])"
   ]
  },
  {
   "attachments": {},
   "cell_type": "markdown",
   "metadata": {},
   "source": [
    "### Normalisasi Data"
   ]
  },
  {
   "cell_type": "code",
   "execution_count": 8,
   "metadata": {},
   "outputs": [],
   "source": [
    "# Normalisasi data menggunakan StandardScaler\n",
    "scaler = StandardScaler()\n",
    "df[['load', 'temp']] = scaler.fit_transform(df[['load', 'temp']])"
   ]
  },
  {
   "attachments": {},
   "cell_type": "markdown",
   "metadata": {},
   "source": [
    "### Split Dataset"
   ]
  },
  {
   "cell_type": "code",
   "execution_count": 9,
   "metadata": {},
   "outputs": [],
   "source": [
    "# Membagi data menjadi fitur (X) dan target (y)\n",
    "X = df[['temp']]\n",
    "y = df['load']"
   ]
  },
  {
   "cell_type": "code",
   "execution_count": 10,
   "metadata": {},
   "outputs": [],
   "source": [
    "# Membagi data menjadi data latih dan data uji\n",
    "X_train, X_test, y_train, y_test = train_test_split(X, y, test_size=0.2, random_state=42)"
   ]
  },
  {
   "attachments": {},
   "cell_type": "markdown",
   "metadata": {},
   "source": [
    "### Membangun Model"
   ]
  },
  {
   "cell_type": "code",
   "execution_count": 21,
   "metadata": {},
   "outputs": [
    {
     "name": "stderr",
     "output_type": "stream",
     "text": [
      "/home/nabilaaprillia/.local/lib/python3.10/site-packages/keras/src/layers/core/dense.py:86: UserWarning: Do not pass an `input_shape`/`input_dim` argument to a layer. When using Sequential models, prefer using an `Input(shape)` object as the first layer in the model instead.\n",
      "  super().__init__(activity_regularizer=activity_regularizer, **kwargs)\n"
     ]
    },
    {
     "name": "stdout",
     "output_type": "stream",
     "text": [
      "Epoch 1/100\n",
      "\u001b[1m527/527\u001b[0m \u001b[32m━━━━━━━━━━━━━━━━━━━━\u001b[0m\u001b[37m\u001b[0m \u001b[1m3s\u001b[0m 3ms/step - loss: 0.8273 - mean_squared_error: 0.8273 - val_loss: 0.6677 - val_mean_squared_error: 0.6677\n",
      "Epoch 2/100\n",
      "\u001b[1m527/527\u001b[0m \u001b[32m━━━━━━━━━━━━━━━━━━━━\u001b[0m\u001b[37m\u001b[0m \u001b[1m1s\u001b[0m 2ms/step - loss: 0.6888 - mean_squared_error: 0.6888 - val_loss: 0.6683 - val_mean_squared_error: 0.6683\n",
      "Epoch 3/100\n",
      "\u001b[1m527/527\u001b[0m \u001b[32m━━━━━━━━━━━━━━━━━━━━\u001b[0m\u001b[37m\u001b[0m \u001b[1m1s\u001b[0m 2ms/step - loss: 0.6835 - mean_squared_error: 0.6835 - val_loss: 0.6713 - val_mean_squared_error: 0.6713\n",
      "Epoch 4/100\n",
      "\u001b[1m527/527\u001b[0m \u001b[32m━━━━━━━━━━━━━━━━━━━━\u001b[0m\u001b[37m\u001b[0m \u001b[1m1s\u001b[0m 2ms/step - loss: 0.6848 - mean_squared_error: 0.6848 - val_loss: 0.6642 - val_mean_squared_error: 0.6642\n",
      "Epoch 5/100\n",
      "\u001b[1m527/527\u001b[0m \u001b[32m━━━━━━━━━━━━━━━━━━━━\u001b[0m\u001b[37m\u001b[0m \u001b[1m1s\u001b[0m 2ms/step - loss: 0.6811 - mean_squared_error: 0.6811 - val_loss: 0.6669 - val_mean_squared_error: 0.6669\n",
      "Epoch 6/100\n",
      "\u001b[1m527/527\u001b[0m \u001b[32m━━━━━━━━━━━━━━━━━━━━\u001b[0m\u001b[37m\u001b[0m \u001b[1m2s\u001b[0m 3ms/step - loss: 0.6806 - mean_squared_error: 0.6806 - val_loss: 0.6630 - val_mean_squared_error: 0.6630\n",
      "Epoch 7/100\n",
      "\u001b[1m527/527\u001b[0m \u001b[32m━━━━━━━━━━━━━━━━━━━━\u001b[0m\u001b[37m\u001b[0m \u001b[1m2s\u001b[0m 3ms/step - loss: 0.6811 - mean_squared_error: 0.6811 - val_loss: 0.6654 - val_mean_squared_error: 0.6654\n",
      "Epoch 8/100\n",
      "\u001b[1m527/527\u001b[0m \u001b[32m━━━━━━━━━━━━━━━━━━━━\u001b[0m\u001b[37m\u001b[0m \u001b[1m2s\u001b[0m 2ms/step - loss: 0.6833 - mean_squared_error: 0.6833 - val_loss: 0.6641 - val_mean_squared_error: 0.6641\n",
      "Epoch 9/100\n",
      "\u001b[1m527/527\u001b[0m \u001b[32m━━━━━━━━━━━━━━━━━━━━\u001b[0m\u001b[37m\u001b[0m \u001b[1m1s\u001b[0m 3ms/step - loss: 0.6895 - mean_squared_error: 0.6895 - val_loss: 0.6635 - val_mean_squared_error: 0.6635\n",
      "Epoch 10/100\n",
      "\u001b[1m527/527\u001b[0m \u001b[32m━━━━━━━━━━━━━━━━━━━━\u001b[0m\u001b[37m\u001b[0m \u001b[1m2s\u001b[0m 2ms/step - loss: 0.6818 - mean_squared_error: 0.6818 - val_loss: 0.6631 - val_mean_squared_error: 0.6631\n",
      "Epoch 11/100\n",
      "\u001b[1m527/527\u001b[0m \u001b[32m━━━━━━━━━━━━━━━━━━━━\u001b[0m\u001b[37m\u001b[0m \u001b[1m3s\u001b[0m 3ms/step - loss: 0.6864 - mean_squared_error: 0.6864 - val_loss: 0.6644 - val_mean_squared_error: 0.6644\n",
      "Epoch 12/100\n",
      "\u001b[1m527/527\u001b[0m \u001b[32m━━━━━━━━━━━━━━━━━━━━\u001b[0m\u001b[37m\u001b[0m \u001b[1m1s\u001b[0m 2ms/step - loss: 0.6778 - mean_squared_error: 0.6778 - val_loss: 0.6652 - val_mean_squared_error: 0.6652\n",
      "Epoch 13/100\n",
      "\u001b[1m527/527\u001b[0m \u001b[32m━━━━━━━━━━━━━━━━━━━━\u001b[0m\u001b[37m\u001b[0m \u001b[1m3s\u001b[0m 3ms/step - loss: 0.6782 - mean_squared_error: 0.6782 - val_loss: 0.6661 - val_mean_squared_error: 0.6661\n",
      "Epoch 14/100\n",
      "\u001b[1m527/527\u001b[0m \u001b[32m━━━━━━━━━━━━━━━━━━━━\u001b[0m\u001b[37m\u001b[0m \u001b[1m1s\u001b[0m 2ms/step - loss: 0.6849 - mean_squared_error: 0.6849 - val_loss: 0.6640 - val_mean_squared_error: 0.6640\n",
      "Epoch 15/100\n",
      "\u001b[1m527/527\u001b[0m \u001b[32m━━━━━━━━━━━━━━━━━━━━\u001b[0m\u001b[37m\u001b[0m \u001b[1m2s\u001b[0m 3ms/step - loss: 0.6835 - mean_squared_error: 0.6835 - val_loss: 0.6658 - val_mean_squared_error: 0.6658\n",
      "Epoch 16/100\n",
      "\u001b[1m527/527\u001b[0m \u001b[32m━━━━━━━━━━━━━━━━━━━━\u001b[0m\u001b[37m\u001b[0m \u001b[1m2s\u001b[0m 2ms/step - loss: 0.6866 - mean_squared_error: 0.6866 - val_loss: 0.6696 - val_mean_squared_error: 0.6696\n",
      "Epoch 17/100\n",
      "\u001b[1m527/527\u001b[0m \u001b[32m━━━━━━━━━━━━━━━━━━━━\u001b[0m\u001b[37m\u001b[0m \u001b[1m2s\u001b[0m 4ms/step - loss: 0.6881 - mean_squared_error: 0.6881 - val_loss: 0.6733 - val_mean_squared_error: 0.6733\n",
      "Epoch 18/100\n",
      "\u001b[1m527/527\u001b[0m \u001b[32m━━━━━━━━━━━━━━━━━━━━\u001b[0m\u001b[37m\u001b[0m \u001b[1m1s\u001b[0m 3ms/step - loss: 0.6747 - mean_squared_error: 0.6747 - val_loss: 0.6641 - val_mean_squared_error: 0.6641\n",
      "Epoch 19/100\n",
      "\u001b[1m527/527\u001b[0m \u001b[32m━━━━━━━━━━━━━━━━━━━━\u001b[0m\u001b[37m\u001b[0m \u001b[1m2s\u001b[0m 3ms/step - loss: 0.6807 - mean_squared_error: 0.6807 - val_loss: 0.6661 - val_mean_squared_error: 0.6661\n",
      "Epoch 20/100\n",
      "\u001b[1m527/527\u001b[0m \u001b[32m━━━━━━━━━━━━━━━━━━━━\u001b[0m\u001b[37m\u001b[0m \u001b[1m2s\u001b[0m 3ms/step - loss: 0.6819 - mean_squared_error: 0.6819 - val_loss: 0.6644 - val_mean_squared_error: 0.6644\n",
      "Epoch 21/100\n",
      "\u001b[1m527/527\u001b[0m \u001b[32m━━━━━━━━━━━━━━━━━━━━\u001b[0m\u001b[37m\u001b[0m \u001b[1m3s\u001b[0m 3ms/step - loss: 0.6846 - mean_squared_error: 0.6846 - val_loss: 0.6652 - val_mean_squared_error: 0.6652\n",
      "Epoch 22/100\n",
      "\u001b[1m527/527\u001b[0m \u001b[32m━━━━━━━━━━━━━━━━━━━━\u001b[0m\u001b[37m\u001b[0m \u001b[1m2s\u001b[0m 3ms/step - loss: 0.6836 - mean_squared_error: 0.6836 - val_loss: 0.6650 - val_mean_squared_error: 0.6650\n",
      "Epoch 23/100\n",
      "\u001b[1m527/527\u001b[0m \u001b[32m━━━━━━━━━━━━━━━━━━━━\u001b[0m\u001b[37m\u001b[0m \u001b[1m1s\u001b[0m 3ms/step - loss: 0.6812 - mean_squared_error: 0.6812 - val_loss: 0.6674 - val_mean_squared_error: 0.6674\n",
      "Epoch 24/100\n",
      "\u001b[1m527/527\u001b[0m \u001b[32m━━━━━━━━━━━━━━━━━━━━\u001b[0m\u001b[37m\u001b[0m \u001b[1m1s\u001b[0m 3ms/step - loss: 0.6825 - mean_squared_error: 0.6825 - val_loss: 0.6632 - val_mean_squared_error: 0.6632\n",
      "Epoch 25/100\n",
      "\u001b[1m527/527\u001b[0m \u001b[32m━━━━━━━━━━━━━━━━━━━━\u001b[0m\u001b[37m\u001b[0m \u001b[1m3s\u001b[0m 3ms/step - loss: 0.6855 - mean_squared_error: 0.6855 - val_loss: 0.6633 - val_mean_squared_error: 0.6633\n",
      "Epoch 26/100\n",
      "\u001b[1m527/527\u001b[0m \u001b[32m━━━━━━━━━━━━━━━━━━━━\u001b[0m\u001b[37m\u001b[0m \u001b[1m1s\u001b[0m 3ms/step - loss: 0.6813 - mean_squared_error: 0.6813 - val_loss: 0.6641 - val_mean_squared_error: 0.6641\n",
      "Epoch 27/100\n",
      "\u001b[1m527/527\u001b[0m \u001b[32m━━━━━━━━━━━━━━━━━━━━\u001b[0m\u001b[37m\u001b[0m \u001b[1m1s\u001b[0m 3ms/step - loss: 0.6849 - mean_squared_error: 0.6849 - val_loss: 0.6643 - val_mean_squared_error: 0.6643\n",
      "Epoch 28/100\n",
      "\u001b[1m527/527\u001b[0m \u001b[32m━━━━━━━━━━━━━━━━━━━━\u001b[0m\u001b[37m\u001b[0m \u001b[1m1s\u001b[0m 3ms/step - loss: 0.6852 - mean_squared_error: 0.6852 - val_loss: 0.6636 - val_mean_squared_error: 0.6636\n",
      "Epoch 29/100\n",
      "\u001b[1m527/527\u001b[0m \u001b[32m━━━━━━━━━━━━━━━━━━━━\u001b[0m\u001b[37m\u001b[0m \u001b[1m3s\u001b[0m 3ms/step - loss: 0.6817 - mean_squared_error: 0.6817 - val_loss: 0.6639 - val_mean_squared_error: 0.6639\n",
      "Epoch 30/100\n",
      "\u001b[1m527/527\u001b[0m \u001b[32m━━━━━━━━━━━━━━━━━━━━\u001b[0m\u001b[37m\u001b[0m \u001b[1m1s\u001b[0m 3ms/step - loss: 0.6881 - mean_squared_error: 0.6881 - val_loss: 0.6656 - val_mean_squared_error: 0.6656\n",
      "Epoch 31/100\n",
      "\u001b[1m527/527\u001b[0m \u001b[32m━━━━━━━━━━━━━━━━━━━━\u001b[0m\u001b[37m\u001b[0m \u001b[1m2s\u001b[0m 2ms/step - loss: 0.6796 - mean_squared_error: 0.6796 - val_loss: 0.6691 - val_mean_squared_error: 0.6691\n",
      "Epoch 32/100\n",
      "\u001b[1m527/527\u001b[0m \u001b[32m━━━━━━━━━━━━━━━━━━━━\u001b[0m\u001b[37m\u001b[0m \u001b[1m1s\u001b[0m 3ms/step - loss: 0.6906 - mean_squared_error: 0.6906 - val_loss: 0.6645 - val_mean_squared_error: 0.6645\n",
      "Epoch 33/100\n",
      "\u001b[1m527/527\u001b[0m \u001b[32m━━━━━━━━━━━━━━━━━━━━\u001b[0m\u001b[37m\u001b[0m \u001b[1m3s\u001b[0m 3ms/step - loss: 0.6867 - mean_squared_error: 0.6867 - val_loss: 0.6634 - val_mean_squared_error: 0.6634\n",
      "Epoch 34/100\n",
      "\u001b[1m527/527\u001b[0m \u001b[32m━━━━━━━━━━━━━━━━━━━━\u001b[0m\u001b[37m\u001b[0m \u001b[1m2s\u001b[0m 4ms/step - loss: 0.6811 - mean_squared_error: 0.6811 - val_loss: 0.6675 - val_mean_squared_error: 0.6675\n",
      "Epoch 35/100\n",
      "\u001b[1m527/527\u001b[0m \u001b[32m━━━━━━━━━━━━━━━━━━━━\u001b[0m\u001b[37m\u001b[0m \u001b[1m1s\u001b[0m 3ms/step - loss: 0.6880 - mean_squared_error: 0.6880 - val_loss: 0.6637 - val_mean_squared_error: 0.6637\n",
      "Epoch 36/100\n",
      "\u001b[1m527/527\u001b[0m \u001b[32m━━━━━━━━━━━━━━━━━━━━\u001b[0m\u001b[37m\u001b[0m \u001b[1m3s\u001b[0m 4ms/step - loss: 0.6768 - mean_squared_error: 0.6768 - val_loss: 0.6641 - val_mean_squared_error: 0.6641\n",
      "Epoch 37/100\n",
      "\u001b[1m527/527\u001b[0m \u001b[32m━━━━━━━━━━━━━━━━━━━━\u001b[0m\u001b[37m\u001b[0m \u001b[1m2s\u001b[0m 3ms/step - loss: 0.6760 - mean_squared_error: 0.6760 - val_loss: 0.6639 - val_mean_squared_error: 0.6639\n",
      "Epoch 38/100\n",
      "\u001b[1m527/527\u001b[0m \u001b[32m━━━━━━━━━━━━━━━━━━━━\u001b[0m\u001b[37m\u001b[0m \u001b[1m3s\u001b[0m 3ms/step - loss: 0.6855 - mean_squared_error: 0.6855 - val_loss: 0.6681 - val_mean_squared_error: 0.6681\n",
      "Epoch 39/100\n",
      "\u001b[1m527/527\u001b[0m \u001b[32m━━━━━━━━━━━━━━━━━━━━\u001b[0m\u001b[37m\u001b[0m \u001b[1m2s\u001b[0m 4ms/step - loss: 0.6736 - mean_squared_error: 0.6736 - val_loss: 0.6652 - val_mean_squared_error: 0.6652\n",
      "Epoch 40/100\n",
      "\u001b[1m527/527\u001b[0m \u001b[32m━━━━━━━━━━━━━━━━━━━━\u001b[0m\u001b[37m\u001b[0m \u001b[1m3s\u001b[0m 4ms/step - loss: 0.6842 - mean_squared_error: 0.6842 - val_loss: 0.6641 - val_mean_squared_error: 0.6641\n",
      "Epoch 41/100\n",
      "\u001b[1m527/527\u001b[0m \u001b[32m━━━━━━━━━━━━━━━━━━━━\u001b[0m\u001b[37m\u001b[0m \u001b[1m3s\u001b[0m 4ms/step - loss: 0.6873 - mean_squared_error: 0.6873 - val_loss: 0.6633 - val_mean_squared_error: 0.6633\n",
      "Epoch 42/100\n",
      "\u001b[1m527/527\u001b[0m \u001b[32m━━━━━━━━━━━━━━━━━━━━\u001b[0m\u001b[37m\u001b[0m \u001b[1m3s\u001b[0m 5ms/step - loss: 0.6814 - mean_squared_error: 0.6814 - val_loss: 0.6632 - val_mean_squared_error: 0.6632\n",
      "Epoch 43/100\n",
      "\u001b[1m527/527\u001b[0m \u001b[32m━━━━━━━━━━━━━━━━━━━━\u001b[0m\u001b[37m\u001b[0m \u001b[1m2s\u001b[0m 3ms/step - loss: 0.6803 - mean_squared_error: 0.6803 - val_loss: 0.6639 - val_mean_squared_error: 0.6639\n",
      "Epoch 44/100\n",
      "\u001b[1m527/527\u001b[0m \u001b[32m━━━━━━━━━━━━━━━━━━━━\u001b[0m\u001b[37m\u001b[0m \u001b[1m2s\u001b[0m 4ms/step - loss: 0.6833 - mean_squared_error: 0.6833 - val_loss: 0.6644 - val_mean_squared_error: 0.6644\n",
      "Epoch 45/100\n",
      "\u001b[1m527/527\u001b[0m \u001b[32m━━━━━━━━━━━━━━━━━━━━\u001b[0m\u001b[37m\u001b[0m \u001b[1m2s\u001b[0m 3ms/step - loss: 0.6882 - mean_squared_error: 0.6882 - val_loss: 0.6646 - val_mean_squared_error: 0.6646\n",
      "Epoch 46/100\n",
      "\u001b[1m527/527\u001b[0m \u001b[32m━━━━━━━━━━━━━━━━━━━━\u001b[0m\u001b[37m\u001b[0m \u001b[1m2s\u001b[0m 2ms/step - loss: 0.6825 - mean_squared_error: 0.6825 - val_loss: 0.6643 - val_mean_squared_error: 0.6643\n",
      "Epoch 47/100\n",
      "\u001b[1m527/527\u001b[0m \u001b[32m━━━━━━━━━━━━━━━━━━━━\u001b[0m\u001b[37m\u001b[0m \u001b[1m3s\u001b[0m 3ms/step - loss: 0.6839 - mean_squared_error: 0.6839 - val_loss: 0.6673 - val_mean_squared_error: 0.6673\n",
      "Epoch 48/100\n",
      "\u001b[1m527/527\u001b[0m \u001b[32m━━━━━━━━━━━━━━━━━━━━\u001b[0m\u001b[37m\u001b[0m \u001b[1m3s\u001b[0m 3ms/step - loss: 0.6871 - mean_squared_error: 0.6871 - val_loss: 0.6641 - val_mean_squared_error: 0.6641\n",
      "Epoch 49/100\n",
      "\u001b[1m527/527\u001b[0m \u001b[32m━━━━━━━━━━━━━━━━━━━━\u001b[0m\u001b[37m\u001b[0m \u001b[1m3s\u001b[0m 4ms/step - loss: 0.6783 - mean_squared_error: 0.6783 - val_loss: 0.6650 - val_mean_squared_error: 0.6650\n",
      "Epoch 50/100\n",
      "\u001b[1m527/527\u001b[0m \u001b[32m━━━━━━━━━━━━━━━━━━━━\u001b[0m\u001b[37m\u001b[0m \u001b[1m2s\u001b[0m 4ms/step - loss: 0.6750 - mean_squared_error: 0.6750 - val_loss: 0.6650 - val_mean_squared_error: 0.6650\n",
      "Epoch 51/100\n",
      "\u001b[1m527/527\u001b[0m \u001b[32m━━━━━━━━━━━━━━━━━━━━\u001b[0m\u001b[37m\u001b[0m \u001b[1m2s\u001b[0m 3ms/step - loss: 0.6789 - mean_squared_error: 0.6789 - val_loss: 0.6661 - val_mean_squared_error: 0.6661\n",
      "Epoch 52/100\n",
      "\u001b[1m527/527\u001b[0m \u001b[32m━━━━━━━━━━━━━━━━━━━━\u001b[0m\u001b[37m\u001b[0m \u001b[1m1s\u001b[0m 3ms/step - loss: 0.6794 - mean_squared_error: 0.6794 - val_loss: 0.6645 - val_mean_squared_error: 0.6645\n",
      "Epoch 53/100\n",
      "\u001b[1m527/527\u001b[0m \u001b[32m━━━━━━━━━━━━━━━━━━━━\u001b[0m\u001b[37m\u001b[0m \u001b[1m2s\u001b[0m 3ms/step - loss: 0.6819 - mean_squared_error: 0.6819 - val_loss: 0.6635 - val_mean_squared_error: 0.6635\n",
      "Epoch 54/100\n",
      "\u001b[1m527/527\u001b[0m \u001b[32m━━━━━━━━━━━━━━━━━━━━\u001b[0m\u001b[37m\u001b[0m \u001b[1m1s\u001b[0m 3ms/step - loss: 0.6826 - mean_squared_error: 0.6826 - val_loss: 0.6719 - val_mean_squared_error: 0.6719\n",
      "Epoch 55/100\n",
      "\u001b[1m527/527\u001b[0m \u001b[32m━━━━━━━━━━━━━━━━━━━━\u001b[0m\u001b[37m\u001b[0m \u001b[1m3s\u001b[0m 3ms/step - loss: 0.6841 - mean_squared_error: 0.6841 - val_loss: 0.6651 - val_mean_squared_error: 0.6651\n",
      "Epoch 56/100\n",
      "\u001b[1m527/527\u001b[0m \u001b[32m━━━━━━━━━━━━━━━━━━━━\u001b[0m\u001b[37m\u001b[0m \u001b[1m1s\u001b[0m 2ms/step - loss: 0.6910 - mean_squared_error: 0.6910 - val_loss: 0.6648 - val_mean_squared_error: 0.6648\n",
      "Epoch 57/100\n",
      "\u001b[1m527/527\u001b[0m \u001b[32m━━━━━━━━━━━━━━━━━━━━\u001b[0m\u001b[37m\u001b[0m \u001b[1m3s\u001b[0m 3ms/step - loss: 0.6817 - mean_squared_error: 0.6817 - val_loss: 0.6681 - val_mean_squared_error: 0.6681\n",
      "Epoch 58/100\n",
      "\u001b[1m527/527\u001b[0m \u001b[32m━━━━━━━━━━━━━━━━━━━━\u001b[0m\u001b[37m\u001b[0m \u001b[1m2s\u001b[0m 3ms/step - loss: 0.6778 - mean_squared_error: 0.6778 - val_loss: 0.6673 - val_mean_squared_error: 0.6673\n",
      "Epoch 59/100\n",
      "\u001b[1m527/527\u001b[0m \u001b[32m━━━━━━━━━━━━━━━━━━━━\u001b[0m\u001b[37m\u001b[0m \u001b[1m3s\u001b[0m 3ms/step - loss: 0.6828 - mean_squared_error: 0.6828 - val_loss: 0.6672 - val_mean_squared_error: 0.6672\n",
      "Epoch 60/100\n",
      "\u001b[1m527/527\u001b[0m \u001b[32m━━━━━━━━━━━━━━━━━━━━\u001b[0m\u001b[37m\u001b[0m \u001b[1m2s\u001b[0m 4ms/step - loss: 0.6826 - mean_squared_error: 0.6826 - val_loss: 0.6639 - val_mean_squared_error: 0.6639\n",
      "Epoch 61/100\n",
      "\u001b[1m527/527\u001b[0m \u001b[32m━━━━━━━━━━━━━━━━━━━━\u001b[0m\u001b[37m\u001b[0m \u001b[1m2s\u001b[0m 3ms/step - loss: 0.6787 - mean_squared_error: 0.6787 - val_loss: 0.6654 - val_mean_squared_error: 0.6654\n",
      "Epoch 62/100\n",
      "\u001b[1m527/527\u001b[0m \u001b[32m━━━━━━━━━━━━━━━━━━━━\u001b[0m\u001b[37m\u001b[0m \u001b[1m1s\u001b[0m 3ms/step - loss: 0.6811 - mean_squared_error: 0.6811 - val_loss: 0.6634 - val_mean_squared_error: 0.6634\n",
      "Epoch 63/100\n",
      "\u001b[1m527/527\u001b[0m \u001b[32m━━━━━━━━━━━━━━━━━━━━\u001b[0m\u001b[37m\u001b[0m \u001b[1m3s\u001b[0m 4ms/step - loss: 0.6849 - mean_squared_error: 0.6849 - val_loss: 0.6650 - val_mean_squared_error: 0.6650\n",
      "Epoch 64/100\n",
      "\u001b[1m527/527\u001b[0m \u001b[32m━━━━━━━━━━━━━━━━━━━━\u001b[0m\u001b[37m\u001b[0m \u001b[1m2s\u001b[0m 3ms/step - loss: 0.6825 - mean_squared_error: 0.6825 - val_loss: 0.6664 - val_mean_squared_error: 0.6664\n",
      "Epoch 65/100\n",
      "\u001b[1m527/527\u001b[0m \u001b[32m━━━━━━━━━━━━━━━━━━━━\u001b[0m\u001b[37m\u001b[0m \u001b[1m2s\u001b[0m 3ms/step - loss: 0.6796 - mean_squared_error: 0.6796 - val_loss: 0.6638 - val_mean_squared_error: 0.6638\n",
      "Epoch 66/100\n",
      "\u001b[1m527/527\u001b[0m \u001b[32m━━━━━━━━━━━━━━━━━━━━\u001b[0m\u001b[37m\u001b[0m \u001b[1m2s\u001b[0m 3ms/step - loss: 0.6863 - mean_squared_error: 0.6863 - val_loss: 0.6676 - val_mean_squared_error: 0.6676\n",
      "Epoch 67/100\n",
      "\u001b[1m527/527\u001b[0m \u001b[32m━━━━━━━━━━━━━━━━━━━━\u001b[0m\u001b[37m\u001b[0m \u001b[1m2s\u001b[0m 3ms/step - loss: 0.6745 - mean_squared_error: 0.6745 - val_loss: 0.6666 - val_mean_squared_error: 0.6666\n",
      "Epoch 68/100\n",
      "\u001b[1m527/527\u001b[0m \u001b[32m━━━━━━━━━━━━━━━━━━━━\u001b[0m\u001b[37m\u001b[0m \u001b[1m2s\u001b[0m 3ms/step - loss: 0.6829 - mean_squared_error: 0.6829 - val_loss: 0.6646 - val_mean_squared_error: 0.6646\n",
      "Epoch 69/100\n",
      "\u001b[1m527/527\u001b[0m \u001b[32m━━━━━━━━━━━━━━━━━━━━\u001b[0m\u001b[37m\u001b[0m \u001b[1m1s\u001b[0m 2ms/step - loss: 0.6787 - mean_squared_error: 0.6787 - val_loss: 0.6665 - val_mean_squared_error: 0.6665\n",
      "Epoch 70/100\n",
      "\u001b[1m527/527\u001b[0m \u001b[32m━━━━━━━━━━━━━━━━━━━━\u001b[0m\u001b[37m\u001b[0m \u001b[1m1s\u001b[0m 3ms/step - loss: 0.6804 - mean_squared_error: 0.6804 - val_loss: 0.6645 - val_mean_squared_error: 0.6645\n",
      "Epoch 71/100\n",
      "\u001b[1m527/527\u001b[0m \u001b[32m━━━━━━━━━━━━━━━━━━━━\u001b[0m\u001b[37m\u001b[0m \u001b[1m3s\u001b[0m 3ms/step - loss: 0.6902 - mean_squared_error: 0.6902 - val_loss: 0.6642 - val_mean_squared_error: 0.6642\n",
      "Epoch 72/100\n",
      "\u001b[1m527/527\u001b[0m \u001b[32m━━━━━━━━━━━━━━━━━━━━\u001b[0m\u001b[37m\u001b[0m \u001b[1m1s\u001b[0m 2ms/step - loss: 0.6850 - mean_squared_error: 0.6850 - val_loss: 0.6660 - val_mean_squared_error: 0.6660\n",
      "Epoch 73/100\n",
      "\u001b[1m527/527\u001b[0m \u001b[32m━━━━━━━━━━━━━━━━━━━━\u001b[0m\u001b[37m\u001b[0m \u001b[1m1s\u001b[0m 3ms/step - loss: 0.6809 - mean_squared_error: 0.6809 - val_loss: 0.6651 - val_mean_squared_error: 0.6651\n",
      "Epoch 74/100\n",
      "\u001b[1m527/527\u001b[0m \u001b[32m━━━━━━━━━━━━━━━━━━━━\u001b[0m\u001b[37m\u001b[0m \u001b[1m1s\u001b[0m 2ms/step - loss: 0.6863 - mean_squared_error: 0.6863 - val_loss: 0.6635 - val_mean_squared_error: 0.6635\n",
      "Epoch 75/100\n",
      "\u001b[1m527/527\u001b[0m \u001b[32m━━━━━━━━━━━━━━━━━━━━\u001b[0m\u001b[37m\u001b[0m \u001b[1m3s\u001b[0m 4ms/step - loss: 0.6821 - mean_squared_error: 0.6821 - val_loss: 0.6644 - val_mean_squared_error: 0.6644\n",
      "Epoch 76/100\n",
      "\u001b[1m527/527\u001b[0m \u001b[32m━━━━━━━━━━━━━━━━━━━━\u001b[0m\u001b[37m\u001b[0m \u001b[1m2s\u001b[0m 3ms/step - loss: 0.6897 - mean_squared_error: 0.6897 - val_loss: 0.6675 - val_mean_squared_error: 0.6675\n",
      "Epoch 77/100\n",
      "\u001b[1m527/527\u001b[0m \u001b[32m━━━━━━━━━━━━━━━━━━━━\u001b[0m\u001b[37m\u001b[0m \u001b[1m2s\u001b[0m 3ms/step - loss: 0.6812 - mean_squared_error: 0.6812 - val_loss: 0.6644 - val_mean_squared_error: 0.6644\n",
      "Epoch 78/100\n",
      "\u001b[1m527/527\u001b[0m \u001b[32m━━━━━━━━━━━━━━━━━━━━\u001b[0m\u001b[37m\u001b[0m \u001b[1m3s\u001b[0m 3ms/step - loss: 0.6827 - mean_squared_error: 0.6827 - val_loss: 0.6659 - val_mean_squared_error: 0.6659\n",
      "Epoch 79/100\n",
      "\u001b[1m527/527\u001b[0m \u001b[32m━━━━━━━━━━━━━━━━━━━━\u001b[0m\u001b[37m\u001b[0m \u001b[1m2s\u001b[0m 5ms/step - loss: 0.6726 - mean_squared_error: 0.6726 - val_loss: 0.6644 - val_mean_squared_error: 0.6644\n",
      "Epoch 80/100\n",
      "\u001b[1m527/527\u001b[0m \u001b[32m━━━━━━━━━━━━━━━━━━━━\u001b[0m\u001b[37m\u001b[0m \u001b[1m2s\u001b[0m 3ms/step - loss: 0.6791 - mean_squared_error: 0.6791 - val_loss: 0.6640 - val_mean_squared_error: 0.6640\n",
      "Epoch 81/100\n",
      "\u001b[1m527/527\u001b[0m \u001b[32m━━━━━━━━━━━━━━━━━━━━\u001b[0m\u001b[37m\u001b[0m \u001b[1m4s\u001b[0m 6ms/step - loss: 0.6946 - mean_squared_error: 0.6946 - val_loss: 0.6634 - val_mean_squared_error: 0.6634\n",
      "Epoch 82/100\n",
      "\u001b[1m527/527\u001b[0m \u001b[32m━━━━━━━━━━━━━━━━━━━━\u001b[0m\u001b[37m\u001b[0m \u001b[1m2s\u001b[0m 4ms/step - loss: 0.6763 - mean_squared_error: 0.6763 - val_loss: 0.6660 - val_mean_squared_error: 0.6660\n",
      "Epoch 83/100\n",
      "\u001b[1m527/527\u001b[0m \u001b[32m━━━━━━━━━━━━━━━━━━━━\u001b[0m\u001b[37m\u001b[0m \u001b[1m2s\u001b[0m 3ms/step - loss: 0.6879 - mean_squared_error: 0.6879 - val_loss: 0.6635 - val_mean_squared_error: 0.6635\n",
      "Epoch 84/100\n",
      "\u001b[1m527/527\u001b[0m \u001b[32m━━━━━━━━━━━━━━━━━━━━\u001b[0m\u001b[37m\u001b[0m \u001b[1m2s\u001b[0m 4ms/step - loss: 0.6830 - mean_squared_error: 0.6830 - val_loss: 0.6637 - val_mean_squared_error: 0.6637\n",
      "Epoch 85/100\n",
      "\u001b[1m527/527\u001b[0m \u001b[32m━━━━━━━━━━━━━━━━━━━━\u001b[0m\u001b[37m\u001b[0m \u001b[1m2s\u001b[0m 3ms/step - loss: 0.6888 - mean_squared_error: 0.6888 - val_loss: 0.6659 - val_mean_squared_error: 0.6659\n",
      "Epoch 86/100\n",
      "\u001b[1m527/527\u001b[0m \u001b[32m━━━━━━━━━━━━━━━━━━━━\u001b[0m\u001b[37m\u001b[0m \u001b[1m2s\u001b[0m 4ms/step - loss: 0.6851 - mean_squared_error: 0.6851 - val_loss: 0.6657 - val_mean_squared_error: 0.6657\n",
      "Epoch 87/100\n",
      "\u001b[1m527/527\u001b[0m \u001b[32m━━━━━━━━━━━━━━━━━━━━\u001b[0m\u001b[37m\u001b[0m \u001b[1m3s\u001b[0m 5ms/step - loss: 0.6721 - mean_squared_error: 0.6721 - val_loss: 0.6642 - val_mean_squared_error: 0.6642\n",
      "Epoch 88/100\n",
      "\u001b[1m527/527\u001b[0m \u001b[32m━━━━━━━━━━━━━━━━━━━━\u001b[0m\u001b[37m\u001b[0m \u001b[1m4s\u001b[0m 4ms/step - loss: 0.6763 - mean_squared_error: 0.6763 - val_loss: 0.6675 - val_mean_squared_error: 0.6675\n",
      "Epoch 89/100\n",
      "\u001b[1m527/527\u001b[0m \u001b[32m━━━━━━━━━━━━━━━━━━━━\u001b[0m\u001b[37m\u001b[0m \u001b[1m2s\u001b[0m 3ms/step - loss: 0.6782 - mean_squared_error: 0.6782 - val_loss: 0.6637 - val_mean_squared_error: 0.6637\n",
      "Epoch 90/100\n",
      "\u001b[1m527/527\u001b[0m \u001b[32m━━━━━━━━━━━━━━━━━━━━\u001b[0m\u001b[37m\u001b[0m \u001b[1m3s\u001b[0m 5ms/step - loss: 0.6805 - mean_squared_error: 0.6805 - val_loss: 0.6651 - val_mean_squared_error: 0.6651\n",
      "Epoch 91/100\n",
      "\u001b[1m527/527\u001b[0m \u001b[32m━━━━━━━━━━━━━━━━━━━━\u001b[0m\u001b[37m\u001b[0m \u001b[1m2s\u001b[0m 4ms/step - loss: 0.6822 - mean_squared_error: 0.6822 - val_loss: 0.6635 - val_mean_squared_error: 0.6635\n",
      "Epoch 92/100\n",
      "\u001b[1m527/527\u001b[0m \u001b[32m━━━━━━━━━━━━━━━━━━━━\u001b[0m\u001b[37m\u001b[0m \u001b[1m2s\u001b[0m 4ms/step - loss: 0.6834 - mean_squared_error: 0.6834 - val_loss: 0.6638 - val_mean_squared_error: 0.6638\n",
      "Epoch 93/100\n",
      "\u001b[1m527/527\u001b[0m \u001b[32m━━━━━━━━━━━━━━━━━━━━\u001b[0m\u001b[37m\u001b[0m \u001b[1m2s\u001b[0m 4ms/step - loss: 0.6893 - mean_squared_error: 0.6893 - val_loss: 0.6642 - val_mean_squared_error: 0.6642\n",
      "Epoch 94/100\n",
      "\u001b[1m527/527\u001b[0m \u001b[32m━━━━━━━━━━━━━━━━━━━━\u001b[0m\u001b[37m\u001b[0m \u001b[1m2s\u001b[0m 3ms/step - loss: 0.6901 - mean_squared_error: 0.6901 - val_loss: 0.6642 - val_mean_squared_error: 0.6642\n",
      "Epoch 95/100\n",
      "\u001b[1m527/527\u001b[0m \u001b[32m━━━━━━━━━━━━━━━━━━━━\u001b[0m\u001b[37m\u001b[0m \u001b[1m2s\u001b[0m 4ms/step - loss: 0.6903 - mean_squared_error: 0.6903 - val_loss: 0.6643 - val_mean_squared_error: 0.6643\n",
      "Epoch 96/100\n",
      "\u001b[1m527/527\u001b[0m \u001b[32m━━━━━━━━━━━━━━━━━━━━\u001b[0m\u001b[37m\u001b[0m \u001b[1m2s\u001b[0m 4ms/step - loss: 0.6796 - mean_squared_error: 0.6796 - val_loss: 0.6659 - val_mean_squared_error: 0.6659\n",
      "Epoch 97/100\n",
      "\u001b[1m527/527\u001b[0m \u001b[32m━━━━━━━━━━━━━━━━━━━━\u001b[0m\u001b[37m\u001b[0m \u001b[1m2s\u001b[0m 4ms/step - loss: 0.6836 - mean_squared_error: 0.6836 - val_loss: 0.6691 - val_mean_squared_error: 0.6691\n",
      "Epoch 98/100\n",
      "\u001b[1m527/527\u001b[0m \u001b[32m━━━━━━━━━━━━━━━━━━━━\u001b[0m\u001b[37m\u001b[0m \u001b[1m2s\u001b[0m 3ms/step - loss: 0.6809 - mean_squared_error: 0.6809 - val_loss: 0.6654 - val_mean_squared_error: 0.6654\n",
      "Epoch 99/100\n",
      "\u001b[1m527/527\u001b[0m \u001b[32m━━━━━━━━━━━━━━━━━━━━\u001b[0m\u001b[37m\u001b[0m \u001b[1m2s\u001b[0m 4ms/step - loss: 0.6790 - mean_squared_error: 0.6790 - val_loss: 0.6647 - val_mean_squared_error: 0.6647\n",
      "Epoch 100/100\n",
      "\u001b[1m527/527\u001b[0m \u001b[32m━━━━━━━━━━━━━━━━━━━━\u001b[0m\u001b[37m\u001b[0m \u001b[1m3s\u001b[0m 5ms/step - loss: 0.6941 - mean_squared_error: 0.6941 - val_loss: 0.6633 - val_mean_squared_error: 0.6633\n"
     ]
    }
   ],
   "source": [
    "# Inisialisasi model\n",
    "model = Sequential()\n",
    "\n",
    "# Tambahkan layer input\n",
    "model.add(Dense(10, input_dim=1, activation='relu')) # 10 neuron dalam layer tersembunyi, input_dim sesuai dengan jumlah fitur\n",
    "\n",
    "# Tambahkan layer tersembunyi\n",
    "model.add(Dense(10, activation='relu')) # Anda dapat menyesuaikan jumlah neuron dan layer tersembunyi sesuai kebutuhan\n",
    "\n",
    "# Tambahkan layer output\n",
    "model.add(Dense(1, activation='linear')) # 1 neuron untuk memprediksi load\n",
    "\n",
    "# Kompilasi model\n",
    "model.compile(loss='mean_squared_error', optimizer='adam', metrics=['mean_squared_error'])\n",
    "\n",
    "# Latih model\n",
    "history = model.fit(X_train, y_train, epochs=100, batch_size=32, validation_split=0.2, verbose=1)\n"
   ]
  },
  {
   "attachments": {},
   "cell_type": "markdown",
   "metadata": {},
   "source": [
    "* Layer input memiliki 10 neuron dengan fungsi aktivasi ReLU.\n",
    "* Layer output memiliki satu neuron dengan fungsi aktivasi linear.\n",
    "* Model dikompilasi dengan menggunakan mean squared error sebagai loss function, adam optimizer, dan metrik mean squared error.\n",
    "* Jumlah epochs adalah 100, batch size adalah 32, dan validation split adalah 0.2."
   ]
  },
  {
   "cell_type": "code",
   "execution_count": 22,
   "metadata": {},
   "outputs": [
    {
     "name": "stdout",
     "output_type": "stream",
     "text": [
      "\u001b[1m165/165\u001b[0m \u001b[32m━━━━━━━━━━━━━━━━━━━━\u001b[0m\u001b[37m\u001b[0m \u001b[1m0s\u001b[0m 2ms/step - loss: 0.6862 - mean_squared_error: 0.6862\n",
      "Test loss: [0.6869631409645081, 0.6869631409645081]\n"
     ]
    }
   ],
   "source": [
    "# Evaluasi model\n",
    "loss = model.evaluate(X_test, y_test)\n",
    "print(f'Test loss: {loss}')"
   ]
  },
  {
   "cell_type": "code",
   "execution_count": 23,
   "metadata": {},
   "outputs": [
    {
     "data": {
      "image/png": "[encoded data removed]",
      "text/plain": [
       "<Figure size 640x480 with 1 Axes>"
      ]
     },
     "metadata": {},
     "output_type": "display_data"
    }
   ],
   "source": [
    "# Plot history untuk melihat perkembangan loss selama pelatihan\n",
    "plt.plot(history.history['loss'])\n",
    "plt.plot(history.history['val_loss'])\n",
    "plt.title('Model loss')\n",
    "plt.ylabel('Loss')\n",
    "plt.xlabel('Epoch')\n",
    "plt.legend(['Train', 'Test'], loc='upper right')\n",
    "plt.show()"
   ]
  },
  {
   "cell_type": "code",
   "execution_count": 28,
   "metadata": {},
   "outputs": [
    {
     "name": "stdout",
     "output_type": "stream",
     "text": [
      "\u001b[1m1/1\u001b[0m \u001b[32m━━━━━━━━━━━━━━━━━━━━\u001b[0m\u001b[37m\u001b[0m \u001b[1m0s\u001b[0m 298ms/step\n",
      "Predictions:\n",
      "[[-0.57590365]\n",
      " [-0.5768709 ]\n",
      " [-0.4930423 ]]\n"
     ]
    }
   ],
   "source": [
    "import numpy as np\n",
    "\n",
    "# Misalkan ini adalah contoh data baru yang ingin Anda prediksi\n",
    "X_new_data = np.array([[0.2], [0.4], [0.6]])\n",
    "\n",
    "# Menggunakan model untuk memprediksi data baru\n",
    "predictions = model.predict(X_new_data)\n",
    "\n",
    "# Menampilkan hasil prediksi\n",
    "print(\"Predictions:\")\n",
    "print(predictions)\n"
   ]
  },
  {
   "attachments": {},
   "cell_type": "markdown",
   "metadata": {},
   "source": [
    "Model memprediksi nilai target untuk data baru dengan menggunakan fitur tunggal [0.2], [0.4], dan [0.6], menghasilkan prediksi berupa [-0.57590365], [-0.5768709], dan [-0.4930423] secara berturut-turut. "
   ]
  }
 ],
 "metadata": {
  "kernelspec": {
   "display_name": "Python 3",
   "language": "python",
   "name": "python3"
  },
  "language_info": {
   "codemirror_mode": {
    "name": "ipython",
    "version": 3
   },
   "file_extension": ".py",
   "mimetype": "text/x-python",
   "name": "python",
   "nbconvert_exporter": "python",
   "pygments_lexer": "ipython3",
   "version": "3.10.12"
  },
  "orig_nbformat": 4
 },
 "nbformat": 4,
 "nbformat_minor": 2
}
